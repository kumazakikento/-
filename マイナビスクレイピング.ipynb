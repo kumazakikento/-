{
 "cells": [
  {
   "cell_type": "code",
   "execution_count": null,
   "id": "3a31b461-0e06-43d7-bce4-31adbb5dd8e6",
   "metadata": {},
   "outputs": [
    {
     "name": "stderr",
     "output_type": "stream",
     "text": [
      "C:\\Users\\Kento\\AppData\\Local\\Temp/ipykernel_17308/80382120.py:19: DeprecationWarning: find_elements_by_* commands are deprecated. Please use find_elements() instead\n",
      "  elems = browser.find_elements_by_css_selector(\".boxSearchresultEach h3 a\")\n",
      "C:\\Users\\Kento\\AppData\\Local\\Temp/ipykernel_17308/80382120.py:26: DeprecationWarning: find_element_by_* commands are deprecated. Please use find_element() instead\n",
      "  next_button = browser.find_element_by_link_text('次の100社')\n"
     ]
    },
    {
     "name": "stdout",
     "output_type": "stream",
     "text": [
      "会社ページ数： 1081\n"
     ]
    },
    {
     "name": "stderr",
     "output_type": "stream",
     "text": [
      "C:\\Users\\Kento\\AppData\\Local\\Temp/ipykernel_17308/80382120.py:43: DeprecationWarning: find_element_by_* commands are deprecated. Please use find_element() instead\n",
      "  comp_tit = browser.find_element_by_class_name(\"heading1-inner\")\n",
      "C:\\Users\\Kento\\AppData\\Local\\Temp/ipykernel_17308/80382120.py:49: DeprecationWarning: find_element_by_* commands are deprecated. Please use find_element() instead\n",
      "  comp_phone_number1 = browser.find_element_by_id(\"corpDescDtoListDescText220\").text\n",
      "C:\\Users\\Kento\\AppData\\Local\\Temp/ipykernel_17308/80382120.py:54: DeprecationWarning: find_element_by_* commands are deprecated. Please use find_element() instead\n",
      "  comp_phone_number2 = browser.find_element_by_id(\"outlineFrontListtext220\").text\n"
     ]
    }
   ],
   "source": [
    "from selenium import webdriver\n",
    "from selenium.webdriver.chrome.options import Options\n",
    "from selenium.common.exceptions import NoSuchElementException\n",
    "import pandas as pd\n",
    "from time import sleep\n",
    "\n",
    "options = Options()\n",
    "options.add_argument('--headless') \n",
    "browser = webdriver.Chrome()\n",
    "\n",
    "pageURL = 'https://job.mynavi.jp/23/pc/search/query.html?IC:28,29,30,32/LICM:1/func=PCTopQuickSearch'\n",
    "browser.get(pageURL)\n",
    "\n",
    "# リンク一覧を格納するリストを準備\n",
    "elem_urls=[]\n",
    " \n",
    "# while で　find_element_by_link_text　が　breakするまでループ\n",
    "while True:\n",
    "    elems = browser.find_elements_by_css_selector(\".boxSearchresultEach h3 a\")\n",
    " \n",
    "    for elem in elems:\n",
    "        elem_urls.append(elem.get_attribute(\"href\"))\n",
    " \n",
    "    # 次へをクリックしページ遷移する\n",
    "    try:\n",
    "        next_button = browser.find_element_by_link_text('次の100社')\n",
    "        next_button.click()\n",
    "        sleep(3)\n",
    "    except Exception:\n",
    "        #browser.quit()\n",
    "        break\n",
    "\n",
    "print('会社ページ数：', len(elem_urls))\n",
    "\n",
    "# 列を指定し、空のデータフレーム作成し、代入\n",
    "cols=['会社名','電話番号1','電話番号2','url']\n",
    "df = pd.DataFrame(index=[], columns=cols)\n",
    " \n",
    "for i in elem_urls:\n",
    "    browser.get(i)\n",
    " \n",
    "    # 会社名取得\n",
    "    comp_tit = browser.find_element_by_class_name(\"heading1-inner\")\n",
    "    comp_tit = comp_tit.find_element_by_tag_name(\"h1\").text\n",
    "    # url\n",
    "    comp_url = i\n",
    "    # 電話番号\n",
    "    try:\n",
    "        comp_phone_number1 = browser.find_element_by_id(\"corpDescDtoListDescText220\").text\n",
    "    except NoSuchElementException:\n",
    "        comp_phone_number1 = ''\n",
    "\n",
    "    try:\n",
    "        comp_phone_number2 = browser.find_element_by_id(\"outlineFrontListtext220\").text\n",
    "    except NoSuchElementException:\n",
    "        comp_phone_number2 = ''\n",
    "\n",
    " \n",
    "    df=df.append({'会社名':comp_tit,'電話番号1':comp_phone_number1,'電話番号2':comp_phone_number2,'url':comp_url}, ignore_index=True)\n",
    "    \n",
    "df.to_csv('テレアポリスト.csv',index=False)\n",
    "browser.quit()\n",
    "print(len(df))\n"
   ]
  },
  {
   "cell_type": "code",
   "execution_count": null,
   "id": "1449bfa9-aef2-4bb7-bdda-7d2fb9c91987",
   "metadata": {},
   "outputs": [],
   "source": []
  }
 ],
 "metadata": {
  "kernelspec": {
   "display_name": "Python 3 (ipykernel)",
   "language": "python",
   "name": "python3"
  },
  "language_info": {
   "codemirror_mode": {
    "name": "ipython",
    "version": 3
   },
   "file_extension": ".py",
   "mimetype": "text/x-python",
   "name": "python",
   "nbconvert_exporter": "python",
   "pygments_lexer": "ipython3",
   "version": "3.10.0"
  }
 },
 "nbformat": 4,
 "nbformat_minor": 5
}
